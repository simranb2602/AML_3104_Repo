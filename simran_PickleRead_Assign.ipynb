{
 "cells": [
  {
   "cell_type": "code",
   "execution_count": 13,
   "metadata": {},
   "outputs": [],
   "source": [
    "import pandas as pd\n",
    "import pickle"
   ]
  },
  {
   "cell_type": "code",
   "execution_count": 14,
   "metadata": {},
   "outputs": [],
   "source": [
    "#taking unseen data in a dataframe\n",
    "rdf=pd.read_csv(\"Assign_unseen_data.csv\")"
   ]
  },
  {
   "cell_type": "code",
   "execution_count": 15,
   "metadata": {},
   "outputs": [
    {
     "data": {
      "text/html": [
       "<div>\n",
       "<style scoped>\n",
       "    .dataframe tbody tr th:only-of-type {\n",
       "        vertical-align: middle;\n",
       "    }\n",
       "\n",
       "    .dataframe tbody tr th {\n",
       "        vertical-align: top;\n",
       "    }\n",
       "\n",
       "    .dataframe thead th {\n",
       "        text-align: right;\n",
       "    }\n",
       "</style>\n",
       "<table border=\"1\" class=\"dataframe\">\n",
       "  <thead>\n",
       "    <tr style=\"text-align: right;\">\n",
       "      <th></th>\n",
       "      <th>day</th>\n",
       "      <th>month</th>\n",
       "      <th>Temperature</th>\n",
       "      <th>RH</th>\n",
       "      <th>Ws</th>\n",
       "      <th>Rain</th>\n",
       "      <th>FFMC</th>\n",
       "      <th>DMC</th>\n",
       "      <th>DC</th>\n",
       "      <th>ISI</th>\n",
       "      <th>FWI</th>\n",
       "      <th>BUI</th>\n",
       "      <th>Region</th>\n",
       "      <th>Classes_fire</th>\n",
       "      <th>Classes_not_fire</th>\n",
       "    </tr>\n",
       "  </thead>\n",
       "  <tbody>\n",
       "    <tr>\n",
       "      <th>0</th>\n",
       "      <td>1</td>\n",
       "      <td>5</td>\n",
       "      <td>35</td>\n",
       "      <td>64</td>\n",
       "      <td>17</td>\n",
       "      <td>1.6</td>\n",
       "      <td>60.0</td>\n",
       "      <td>4.1</td>\n",
       "      <td>7.5</td>\n",
       "      <td>1.0</td>\n",
       "      <td>-0.038</td>\n",
       "      <td>3.5</td>\n",
       "      <td>0</td>\n",
       "      <td>0</td>\n",
       "      <td>1</td>\n",
       "    </tr>\n",
       "    <tr>\n",
       "      <th>1</th>\n",
       "      <td>2</td>\n",
       "      <td>6</td>\n",
       "      <td>29</td>\n",
       "      <td>60</td>\n",
       "      <td>14</td>\n",
       "      <td>1.3</td>\n",
       "      <td>68.5</td>\n",
       "      <td>4.3</td>\n",
       "      <td>8.1</td>\n",
       "      <td>1.5</td>\n",
       "      <td>0.910</td>\n",
       "      <td>3.6</td>\n",
       "      <td>0</td>\n",
       "      <td>1</td>\n",
       "      <td>0</td>\n",
       "    </tr>\n",
       "  </tbody>\n",
       "</table>\n",
       "</div>"
      ],
      "text/plain": [
       "   day  month  Temperature  RH  Ws  Rain  FFMC  DMC   DC  ISI    FWI  BUI  \\\n",
       "0    1      5           35  64  17   1.6  60.0  4.1  7.5  1.0 -0.038  3.5   \n",
       "1    2      6           29  60  14   1.3  68.5  4.3  8.1  1.5  0.910  3.6   \n",
       "\n",
       "   Region  Classes_fire  Classes_not_fire  \n",
       "0       0             0                 1  \n",
       "1       0             1                 0  "
      ]
     },
     "execution_count": 15,
     "metadata": {},
     "output_type": "execute_result"
    }
   ],
   "source": [
    "rdf"
   ]
  },
  {
   "cell_type": "code",
   "execution_count": 16,
   "metadata": {},
   "outputs": [],
   "source": [
    "#setting target and input variables\n",
    "inp=rdf.drop(columns=[\"FWI\"])\n",
    "out=rdf['FWI']"
   ]
  },
  {
   "cell_type": "code",
   "execution_count": 17,
   "metadata": {},
   "outputs": [
    {
     "data": {
      "text/html": [
       "<div>\n",
       "<style scoped>\n",
       "    .dataframe tbody tr th:only-of-type {\n",
       "        vertical-align: middle;\n",
       "    }\n",
       "\n",
       "    .dataframe tbody tr th {\n",
       "        vertical-align: top;\n",
       "    }\n",
       "\n",
       "    .dataframe thead th {\n",
       "        text-align: right;\n",
       "    }\n",
       "</style>\n",
       "<table border=\"1\" class=\"dataframe\">\n",
       "  <thead>\n",
       "    <tr style=\"text-align: right;\">\n",
       "      <th></th>\n",
       "      <th>day</th>\n",
       "      <th>month</th>\n",
       "      <th>Temperature</th>\n",
       "      <th>RH</th>\n",
       "      <th>Ws</th>\n",
       "      <th>Rain</th>\n",
       "      <th>FFMC</th>\n",
       "      <th>DMC</th>\n",
       "      <th>DC</th>\n",
       "      <th>ISI</th>\n",
       "      <th>BUI</th>\n",
       "      <th>Region</th>\n",
       "      <th>Classes_fire</th>\n",
       "      <th>Classes_not_fire</th>\n",
       "    </tr>\n",
       "  </thead>\n",
       "  <tbody>\n",
       "    <tr>\n",
       "      <th>0</th>\n",
       "      <td>1</td>\n",
       "      <td>5</td>\n",
       "      <td>35</td>\n",
       "      <td>64</td>\n",
       "      <td>17</td>\n",
       "      <td>1.6</td>\n",
       "      <td>60.0</td>\n",
       "      <td>4.1</td>\n",
       "      <td>7.5</td>\n",
       "      <td>1.0</td>\n",
       "      <td>3.5</td>\n",
       "      <td>0</td>\n",
       "      <td>0</td>\n",
       "      <td>1</td>\n",
       "    </tr>\n",
       "    <tr>\n",
       "      <th>1</th>\n",
       "      <td>2</td>\n",
       "      <td>6</td>\n",
       "      <td>29</td>\n",
       "      <td>60</td>\n",
       "      <td>14</td>\n",
       "      <td>1.3</td>\n",
       "      <td>68.5</td>\n",
       "      <td>4.3</td>\n",
       "      <td>8.1</td>\n",
       "      <td>1.5</td>\n",
       "      <td>3.6</td>\n",
       "      <td>0</td>\n",
       "      <td>1</td>\n",
       "      <td>0</td>\n",
       "    </tr>\n",
       "  </tbody>\n",
       "</table>\n",
       "</div>"
      ],
      "text/plain": [
       "   day  month  Temperature  RH  Ws  Rain  FFMC  DMC   DC  ISI  BUI  Region  \\\n",
       "0    1      5           35  64  17   1.6  60.0  4.1  7.5  1.0  3.5       0   \n",
       "1    2      6           29  60  14   1.3  68.5  4.3  8.1  1.5  3.6       0   \n",
       "\n",
       "   Classes_fire  Classes_not_fire  \n",
       "0             0                 1  \n",
       "1             1                 0  "
      ]
     },
     "execution_count": 17,
     "metadata": {},
     "output_type": "execute_result"
    }
   ],
   "source": [
    "inp"
   ]
  },
  {
   "cell_type": "code",
   "execution_count": 18,
   "metadata": {},
   "outputs": [
    {
     "data": {
      "text/plain": [
       "0   -0.038\n",
       "1    0.910\n",
       "Name: FWI, dtype: float64"
      ]
     },
     "execution_count": 18,
     "metadata": {},
     "output_type": "execute_result"
    }
   ],
   "source": [
    "out"
   ]
  },
  {
   "cell_type": "code",
   "execution_count": 19,
   "metadata": {},
   "outputs": [],
   "source": [
    "#scalling unseen data using scaler pickle file\n",
    "scal_new_data=pickle.load(open('sm_scaler_assign.pkl','rb'))\n",
    "scaled_df=scal_new_data.transform(inp)"
   ]
  },
  {
   "cell_type": "code",
   "execution_count": 20,
   "metadata": {},
   "outputs": [
    {
     "data": {
      "text/plain": [
       "array([[-1.66874796, -2.20634921,  0.80639527,  0.08391477,  0.55570761,\n",
       "         0.34651454, -1.22465397, -0.84245499, -0.87319149, -0.87252794,\n",
       "        -0.91617873, -1.        , -1.098996  ,  1.098996  ],\n",
       "       [-1.55714798, -1.30687831, -0.82883967, -0.18652146, -0.59170487,\n",
       "         0.20920108, -0.62878051, -0.82694101, -0.86101825, -0.75597148,\n",
       "        -0.90943979, -1.        ,  0.90992142, -0.90992142]])"
      ]
     },
     "execution_count": 20,
     "metadata": {},
     "output_type": "execute_result"
    }
   ],
   "source": [
    "scaled_df"
   ]
  },
  {
   "cell_type": "code",
   "execution_count": 21,
   "metadata": {},
   "outputs": [],
   "source": [
    "mlr_new=pickle.load(open('sm_mlr_assign.pkl','rb'))\n",
    "y_pred_new=mlr_new.predict(scaled_df)"
   ]
  },
  {
   "cell_type": "code",
   "execution_count": 22,
   "metadata": {},
   "outputs": [
    {
     "name": "stdout",
     "output_type": "stream",
     "text": [
      "r2: 0.9962695431623847\n",
      "mae: 0.02214262022505668\n",
      "mse: 0.0008381441204480527\n"
     ]
    }
   ],
   "source": [
    "#Model Evaluation\n",
    "from sklearn.metrics import mean_absolute_error, mean_squared_error,r2_score\n",
    "mse=mean_squared_error(out,y_pred_new)\n",
    "mae=mean_absolute_error(out,y_pred_new)\n",
    "r2=r2_score(out,y_pred_new)\n",
    "print('r2:',r2)\n",
    "print('mae:',mae)\n",
    "print('mse:',mse)"
   ]
  },
  {
   "cell_type": "code",
   "execution_count": 23,
   "metadata": {},
   "outputs": [
    {
     "data": {
      "text/plain": [
       "array([-0.03450808,  0.95079332])"
      ]
     },
     "execution_count": 23,
     "metadata": {},
     "output_type": "execute_result"
    }
   ],
   "source": [
    "y_pred_new"
   ]
  },
  {
   "cell_type": "markdown",
   "metadata": {},
   "source": [
    "Upon analyzing Algerian forest fire data with multiple linear regression, key factors influencing fire occurrences were identified, including temperature, humidity, wind speed, and rainfall. Noteworthy insights were gained, such as the direct impact of higher temperatures on increasing the likelihood of forest fires.\n",
    "\n",
    "The strengths of multiple linear regression were evident in its capacity to handle multiple predictors efficiently, providing clear and quantifiable insights through coefficients. However, limitations surfaced, including assumptions of linear relationships and predictor independence, potentially leading to oversights in variable importance.\n",
    "\n",
    "To address these limitations, recommended improvements involve exploring non-linear methods, optimizing variable selection for enhanced accuracy, and incorporating additional data for a more comprehensive understanding of contributing factors.\n",
    "\n",
    "In summary, while multiple linear regression offers valuable insights, acknowledging its limitations and adopting advanced techniques can significantly refine predictive accuracy and better inform strategies for managing and preventing forest fires in Algeria."
   ]
  }
 ],
 "metadata": {
  "kernelspec": {
   "display_name": "Python 3",
   "language": "python",
   "name": "python3"
  },
  "language_info": {
   "codemirror_mode": {
    "name": "ipython",
    "version": 3
   },
   "file_extension": ".py",
   "mimetype": "text/x-python",
   "name": "python",
   "nbconvert_exporter": "python",
   "pygments_lexer": "ipython3",
   "version": "3.11.2"
  }
 },
 "nbformat": 4,
 "nbformat_minor": 2
}
